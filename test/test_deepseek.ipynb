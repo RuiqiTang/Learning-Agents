{
 "cells": [
  {
   "cell_type": "code",
   "execution_count": 1,
   "metadata": {},
   "outputs": [],
   "source": [
    "import os \n",
    "workspace=\"/Users/tr/Documents/GitHub/Learning-Agents\"\n",
    "os.chdir(workspace)"
   ]
  },
  {
   "cell_type": "code",
   "execution_count": 2,
   "metadata": {},
   "outputs": [],
   "source": [
    "# Please install OpenAI SDK first: `pip3 install openai`\n",
    "\n",
    "from openai import OpenAI\n",
    "\n",
    "client = OpenAI(\n",
    "    api_key=os.getenv('DEEPSEEK_API_KEY', ''), \n",
    "    base_url=\"https://api.deepseek.com\"\n",
    ")"
   ]
  },
  {
   "cell_type": "code",
   "execution_count": 3,
   "metadata": {},
   "outputs": [
    {
     "data": {
      "text/plain": [
       "\"## Machine Learning Notes\\n\\n### Total Energy Conservation Property [cite: 1]\\n\\n* Idea of Hill: Add the momentum variable for each dimension of x (Auxiliary variable)[cite: 1, 2].\\n* Update $(x, r)$ together with helping move rapidly through the target[cite: 2].\\n* Assume: $n$ is index $x$, and $m$. [cite: 2]\\n* HMC uses Met framework to sample $(x, r)$ with acceptance/rejection possibilities, and then at samples marginally[cite: 2].\\n\\n### Hamiltonian Monte Carlo (HMC) [cite: 3]\\n\\n* (Neal, 1996) Review by Neal 2011[cite: 3].\\n* Hybrid MC (Duane, 1987)[cite: 3].\\n* Primary: position $(x)$[cite: 3].\\n* Auxiliary: momentum $(r)$[cite: 3].\\n* Hamiltonian dynamics $H(x, r)$[cite: 3].\\n    * $U(x)$: potential (energy)[cite: 3].\\n    * $K(r)$: kinetic (energy) (e.g., $\\\\frac{1}{2}M^{-1}r^2$)[cite: 3].\\n* Hamiltonian: $H(x, r) = U(x) + K(r)$[cite: 3].\\n* Frictionless[cite: 3].\\n* Continuous dynamics:\\n    * $\\\\frac{dx}{dt} = \\\\frac{\\\\partial H}{\\\\partial r}$ [cite: 3]\\n    * $\\\\frac{dr}{dt} = -\\\\frac{\\\\partial H}{\\\\partial x}$ [cite: 3]\\n* Continuous change to Euler discretization[cite: 3].\\n* $(x(t), r(t)) \\\\rightarrow (x(t+\\\\epsilon), r(t+\\\\epsilon))$[cite: 4].\\n    * Simple in form, but error is not easy to control[cite: 4].\\n* Eg. One-dimensional case: $H(x,r) = \\\\frac{r^2}{2} + \\\\frac{x^2}{2}$[cite: 4].\\n    * $\\\\frac{dx}{dt} = r \\\\Rightarrow x(t) = \\\\rho \\\\cdot \\\\cos(a+t)$[cite: 4].\\n    * $\\\\frac{dr}{dt} = -x \\\\Rightarrow r(t) = -\\\\rho \\\\cdot \\\\sin(a+t)$[cite: 4].\\n* Level set of $H(x,r) = \\\\frac{1}{2}\\\\rho^2$[cite: 4].\\n* HMC uses MH to sample $(x,r)$ of density $P(x,r) = P(x)P(r|x)P(x|r,M)$[cite: 5].\\n* And then collect x's marginally for $P(x)$[cite: 5].\""
      ]
     },
     "execution_count": 3,
     "metadata": {},
     "output_type": "execute_result"
    }
   ],
   "source": [
    "markdown_path=os.path.join(workspace,\"assets\",\"test_notes.md\")\n",
    "with open(markdown_path,'r',encoding='utf-8') as f:\n",
    "    markdown_content=f.read()\n",
    "markdown_content\n"
   ]
  },
  {
   "cell_type": "code",
   "execution_count": 4,
   "metadata": {},
   "outputs": [],
   "source": [
    "prompt = \\\n",
    "    \"\"\"\n",
    "    你是一个专业的数学和机器学习教育专家。请将以下Markdown笔记内容转换为FlashCards格式。\n",
    "\n",
    "    要求：\n",
    "    1. 识别并保留所有LaTeX数学公式，确保其格式正确\n",
    "    2. 根据知识点的重要性和考试出现概率进行拆分\n",
    "    3. 每个知识点应该是完整的概念，包含必要的上下文\n",
    "    4. 对于数学证明或推导，应该将过程拆分为合理的步骤\n",
    "    5. 每个FlashCard包含：\n",
    "       - question: 问题（可以是概念解释、证明步骤、公式推导等）\n",
    "       - answer: 详细答案（包含完整的解释和相关公式）\n",
    "       - importance: 重要性 (1-5，5最重要)\n",
    "       - probability: 考试概率 (1-5，5最可能)\n",
    "    6. 返回JSON数组格式，确保所有LaTeX公式都正确保留\n",
    "\n",
    "    示例输出格式：\n",
    "    [\n",
    "        {{\n",
    "            \"question\": \"什么是高斯过程(GP)的定义？\",\n",
    "            \"answer\": \"高斯过程(GP)是一个随机过程，其任何有限次实现集合都具有联合多元正态分布。数学表示为：$f(x) \\\\sim GP(\\\\mu(x), k(x, x'))$，其中：\\\\n- $\\\\mu(x)$ 是均值函数\\\\n- $k(x, x')$ 是协方差函数\",\n",
    "            \"importance\": 5,\n",
    "            \"probability\": 4\n",
    "        }}\n",
    "    ]\n",
    "\n",
    "    笔记内容：\n",
    "    {content}\n",
    "    \"\"\".format(content=markdown_content)\n"
   ]
  },
  {
   "cell_type": "code",
   "execution_count": 5,
   "metadata": {},
   "outputs": [],
   "source": [
    "response = client.chat.completions.create(\n",
    "            model=\"deepseek-chat\",\n",
    "            messages=[\n",
    "                {\n",
    "                    \"role\": \"system\",\n",
    "                    \"content\": \"你是一个专业的数学和机器学习教育专家，精通将复杂的数学概念转换为清晰的FlashCards。请确保保留所有LaTeX公式，并确保输出格式严格符合JSON规范。\"\n",
    "                },\n",
    "                {\n",
    "                    \"role\": \"user\",\n",
    "                    \"content\": prompt\n",
    "                }\n",
    "            ],\n",
    "            temperature=0.3,  # 降低温度以获得更确定性的输出\n",
    "            max_tokens=4000,  # 增加最大token以处理长文本\n",
    "            stream=False\n",
    "        )"
   ]
  },
  {
   "cell_type": "code",
   "execution_count": 16,
   "metadata": {},
   "outputs": [],
   "source": [
    "content=response.choices[0].message.content"
   ]
  },
  {
   "cell_type": "code",
   "execution_count": 20,
   "metadata": {},
   "outputs": [
    {
     "name": "stdout",
     "output_type": "stream",
     "text": [
      "```json\n",
      "[\n",
      "    {\n",
      "        \"question\": \"什么是哈密顿蒙特卡洛(HMC)中的总能量守恒性质？\",\n",
      "        \"answer\": \"HMC通过引入动量变量$r$作为辅助变量，与位置变量$x$一起更新，帮助快速遍历目标分布。假设$n$是$x$的索引，$m$是动量维度。HMC使用Metropolis框架对$(x, r)$进行采样，通过接受/拒绝机制，最终边际化获得$x$的样本。\",\n",
      "        \"importance\": 4,\n",
      "        \"probability\": 3\n",
      "    },\n",
      "    {\n",
      "        \"question\": \"哈密顿蒙特卡洛(HMC)的基本组成是什么？\",\n",
      "        \"answer\": \"HMC由两部分组成：\\n1. 主变量：位置变量$(x)$\\n2. 辅助变量：动量变量$(r)$\\n系统由哈密顿量$H(x, r)$描述，其中：\\n- $U(x)$是势能（与目标分布相关）\\n- $K(r)$是动能（例如$\\frac{1}{2}M^{-1}r^2$）\\n总哈密顿量：$H(x, r) = U(x) + K(r)$\",\n",
      "        \"importance\": 5,\n",
      "        \"probability\": 4\n",
      "    },\n",
      "    {\n",
      "        \"question\": \"哈密顿动力学的基本方程是什么？\",\n",
      "        \"answer\": \"无摩擦的哈密顿动力学方程为：\\n$\\frac{dx}{dt} = \\frac{\\partial H}{\\partial r}$\\n$\\frac{dr}{dt} = -\\frac{\\partial H}{\\partial x}$\\n这些方程描述了系统在相空间中的连续演化。\",\n",
      "        \"importance\": 5,\n",
      "        \"probability\": 5\n",
      "    },\n",
      "    {\n",
      "        \"question\": \"如何将连续的哈密顿动力学离散化？\",\n",
      "        \"answer\": \"通过欧拉离散化将连续时间转化为离散时间步长：\\n$(x(t), r(t)) \\rightarrow (x(t+\\epsilon), r(t+\\epsilon))$\\n虽然形式简单，但误差控制较困难。\",\n",
      "        \"importance\": 4,\n",
      "        \"probability\": 3\n",
      "    },\n",
      "    {\n",
      "        \"question\": \"请解释一维情况下哈密顿量的例子及其解\",\n",
      "        \"answer\": \"例子：$H(x,r) = \\\\frac{r^2}{2} + \\\\frac{x^2}{2}$\\n解为：\\n$\\frac{dx}{dt} = r \\\\Rightarrow x(t) = \\\\rho \\\\cdot \\\\cos(a+t)$\\n$\\frac{dr}{dt} = -x \\\\Rightarrow r(t) = -\\\\rho \\\\cdot \\\\sin(a+t)$\\n能级集：$H(x,r) = \\\\frac{1}{2}\\\\rho^2$\",\n",
      "        \"importance\": 3,\n",
      "        \"probability\": 2\n",
      "    },\n",
      "    {\n",
      "        \"question\": \"HMC如何与Metropolis-Hastings算法结合使用？\",\n",
      "        \"answer\": \"HMC使用MH算法采样$(x,r)$的联合密度：\\n$P(x,r) = P(x)P(r|x)P(x|r,M)$\\n然后边际化收集$x$的样本，得到目标分布$P(x)$。\",\n",
      "        \"importance\": 5,\n",
      "        \"probability\": 4\n",
      "    }\n",
      "]\n",
      "```\n"
     ]
    }
   ],
   "source": [
    "print(content)"
   ]
  },
  {
   "cell_type": "code",
   "execution_count": 30,
   "metadata": {},
   "outputs": [],
   "source": [
    "content = content.strip()\n",
    "if content.startswith(\"```json\"):\n",
    "    content = content[len(\"```json\"):].strip()\n",
    "if content.endswith(\"```\"):\n",
    "    content = content[:-len(\"```\")].strip()\n",
    "content = content.lstrip('\\ufeff')\n",
    "content = content.replace('\\\\', '\\\\\\\\')"
   ]
  },
  {
   "cell_type": "code",
   "execution_count": 31,
   "metadata": {},
   "outputs": [
    {
     "name": "stdout",
     "output_type": "stream",
     "text": [
      "[\n",
      "    {\n",
      "        \"question\": \"什么是哈密顿蒙特卡洛(HMC)中的总能量守恒性质？\",\n",
      "        \"answer\": \"HMC通过引入动量变量$r$作为辅助变量，与位置变量$x$一起更新，帮助快速遍历目标分布。假设$n$是$x$的索引，$m$是动量维度。HMC使用Metropolis框架对$(x, r)$进行采样，通过接受/拒绝机制，最终边际化获得$x$的样本。\",\n",
      "        \"importance\": 4,\n",
      "        \"probability\": 3\n",
      "    },\n",
      "    {\n",
      "        \"question\": \"哈密顿蒙特卡洛(HMC)的基本组成是什么？\",\n",
      "        \"answer\": \"HMC由两部分组成：\\\\n1. 主变量：位置变量$(x)$\\\\n2. 辅助变量：动量变量$(r)$\\\\n系统由哈密顿量$H(x, r)$描述，其中：\\\\n- $U(x)$是势能（与目标分布相关）\\\\n- $K(r)$是动能（例如$\\\\frac{1}{2}M^{-1}r^2$）\\\\n总哈密顿量：$H(x, r) = U(x) + K(r)$\",\n",
      "        \"importance\": 5,\n",
      "        \"probability\": 4\n",
      "    },\n",
      "    {\n",
      "        \"question\": \"哈密顿动力学的基本方程是什么？\",\n",
      "        \"answer\": \"无摩擦的哈密顿动力学方程为：\\\\n$\\\\frac{dx}{dt} = \\\\frac{\\\\partial H}{\\\\partial r}$\\\\n$\\\\frac{dr}{dt} = -\\\\frac{\\\\partial H}{\\\\partial x}$\\\\n这些方程描述了系统在相空间中的连续演化。\",\n",
      "        \"importance\": 5,\n",
      "        \"probability\": 5\n",
      "    },\n",
      "    {\n",
      "        \"question\": \"如何将连续的哈密顿动力学离散化？\",\n",
      "        \"answer\": \"通过欧拉离散化将连续时间转化为离散时间步长：\\\\n$(x(t), r(t)) \\\\rightarrow (x(t+\\\\epsilon), r(t+\\\\epsilon))$\\\\n虽然形式简单，但误差控制较困难。\",\n",
      "        \"importance\": 4,\n",
      "        \"probability\": 3\n",
      "    },\n",
      "    {\n",
      "        \"question\": \"请解释一维情况下哈密顿量的例子及其解\",\n",
      "        \"answer\": \"例子：$H(x,r) = \\\\\\\\frac{r^2}{2} + \\\\\\\\frac{x^2}{2}$\\\\n解为：\\\\n$\\\\frac{dx}{dt} = r \\\\\\\\Rightarrow x(t) = \\\\\\\\rho \\\\\\\\cdot \\\\\\\\cos(a+t)$\\\\n$\\\\frac{dr}{dt} = -x \\\\\\\\Rightarrow r(t) = -\\\\\\\\rho \\\\\\\\cdot \\\\\\\\sin(a+t)$\\\\n能级集：$H(x,r) = \\\\\\\\frac{1}{2}\\\\\\\\rho^2$\",\n",
      "        \"importance\": 3,\n",
      "        \"probability\": 2\n",
      "    },\n",
      "    {\n",
      "        \"question\": \"HMC如何与Metropolis-Hastings算法结合使用？\",\n",
      "        \"answer\": \"HMC使用MH算法采样$(x,r)$的联合密度：\\\\n$P(x,r) = P(x)P(r|x)P(x|r,M)$\\\\n然后边际化收集$x$的样本，得到目标分布$P(x)$。\",\n",
      "        \"importance\": 5,\n",
      "        \"probability\": 4\n",
      "    }\n",
      "]\n"
     ]
    }
   ],
   "source": [
    "print(content)"
   ]
  },
  {
   "cell_type": "code",
   "execution_count": 32,
   "metadata": {},
   "outputs": [
    {
     "data": {
      "text/plain": [
       "[{'question': '什么是哈密顿蒙特卡洛(HMC)中的总能量守恒性质？',\n",
       "  'answer': 'HMC通过引入动量变量$r$作为辅助变量，与位置变量$x$一起更新，帮助快速遍历目标分布。假设$n$是$x$的索引，$m$是动量维度。HMC使用Metropolis框架对$(x, r)$进行采样，通过接受/拒绝机制，最终边际化获得$x$的样本。',\n",
       "  'importance': 4,\n",
       "  'probability': 3},\n",
       " {'question': '哈密顿蒙特卡洛(HMC)的基本组成是什么？',\n",
       "  'answer': 'HMC由两部分组成：\\\\n1. 主变量：位置变量$(x)$\\\\n2. 辅助变量：动量变量$(r)$\\\\n系统由哈密顿量$H(x, r)$描述，其中：\\\\n- $U(x)$是势能（与目标分布相关）\\\\n- $K(r)$是动能（例如$\\\\frac{1}{2}M^{-1}r^2$）\\\\n总哈密顿量：$H(x, r) = U(x) + K(r)$',\n",
       "  'importance': 5,\n",
       "  'probability': 4},\n",
       " {'question': '哈密顿动力学的基本方程是什么？',\n",
       "  'answer': '无摩擦的哈密顿动力学方程为：\\\\n$\\\\frac{dx}{dt} = \\\\frac{\\\\partial H}{\\\\partial r}$\\\\n$\\\\frac{dr}{dt} = -\\\\frac{\\\\partial H}{\\\\partial x}$\\\\n这些方程描述了系统在相空间中的连续演化。',\n",
       "  'importance': 5,\n",
       "  'probability': 5},\n",
       " {'question': '如何将连续的哈密顿动力学离散化？',\n",
       "  'answer': '通过欧拉离散化将连续时间转化为离散时间步长：\\\\n$(x(t), r(t)) \\\\rightarrow (x(t+\\\\epsilon), r(t+\\\\epsilon))$\\\\n虽然形式简单，但误差控制较困难。',\n",
       "  'importance': 4,\n",
       "  'probability': 3},\n",
       " {'question': '请解释一维情况下哈密顿量的例子及其解',\n",
       "  'answer': '例子：$H(x,r) = \\\\\\\\frac{r^2}{2} + \\\\\\\\frac{x^2}{2}$\\\\n解为：\\\\n$\\\\frac{dx}{dt} = r \\\\\\\\Rightarrow x(t) = \\\\\\\\rho \\\\\\\\cdot \\\\\\\\cos(a+t)$\\\\n$\\\\frac{dr}{dt} = -x \\\\\\\\Rightarrow r(t) = -\\\\\\\\rho \\\\\\\\cdot \\\\\\\\sin(a+t)$\\\\n能级集：$H(x,r) = \\\\\\\\frac{1}{2}\\\\\\\\rho^2$',\n",
       "  'importance': 3,\n",
       "  'probability': 2},\n",
       " {'question': 'HMC如何与Metropolis-Hastings算法结合使用？',\n",
       "  'answer': 'HMC使用MH算法采样$(x,r)$的联合密度：\\\\n$P(x,r) = P(x)P(r|x)P(x|r,M)$\\\\n然后边际化收集$x$的样本，得到目标分布$P(x)$。',\n",
       "  'importance': 5,\n",
       "  'probability': 4}]"
      ]
     },
     "execution_count": 32,
     "metadata": {},
     "output_type": "execute_result"
    }
   ],
   "source": [
    "import json \n",
    "json_content=json.loads(content)\n",
    "json_content"
   ]
  },
  {
   "cell_type": "code",
   "execution_count": 14,
   "metadata": {},
   "outputs": [
    {
     "name": "stderr",
     "output_type": "stream",
     "text": [
      "/var/folders/gk/zqytr9t577n5vwk871xhnpwh0000gn/T/ipykernel_55196/405989935.py:1: DeprecationWarning: invalid escape sequence '\\p'\n",
      "  content=content.encode().decode('unicode_escape')\n"
     ]
    },
    {
     "data": {
      "text/plain": [
       "'```json\\n[\\n    {\\n        \"question\": \"ä»\\x80ä¹\\x88æ\\x98¯å\\x93\\x88å¯\\x86é¡¿è\\x92\\x99ç\\x89¹å\\x8d¡æ´\\x9b(HMC)ä¸\\xadç\\x9a\\x84æ\\x80»è\\x83½é\\x87\\x8få®\\x88æ\\x81\\x92æ\\x80§è´¨ï¼\\x9f\",\\n        \"answer\": \"HMCé\\x80\\x9aè¿\\x87å¼\\x95å\\x85¥å\\x8a¨é\\x87\\x8få\\x8f\\x98é\\x87\\x8f$r$ä½\\x9cä¸ºè¾\\x85å\\x8a©å\\x8f\\x98é\\x87\\x8fï¼\\x8cä¸\\x8eä½\\x8dç½®å\\x8f\\x98é\\x87\\x8f$x$ä¸\\x80èµ·æ\\x9b´æ\\x96°ï¼\\x8cå¸®å\\x8a©å¿«é\\x80\\x9fé\\x81\\x8då\\x8e\\x86ç\\x9b®æ\\xa0\\x87å\\x88\\x86å¸\\x83ã\\x80\\x82å\\x81\\x87è®¾$n$æ\\x98¯$x$ç\\x9a\\x84ç´¢å¼\\x95ï¼\\x8c$m$æ\\x98¯å\\x8a¨é\\x87\\x8fç»´åº¦ã\\x80\\x82HMCä½¿ç\\x94¨Metropolisæ¡\\x86æ\\x9e¶å¯¹$(x, r)$è¿\\x9bè¡\\x8cé\\x87\\x87æ\\xa0·ï¼\\x8cé\\x80\\x9aè¿\\x87æ\\x8e¥å\\x8f\\x97/æ\\x8b\\x92ç»\\x9dæ\\x9cºå\\x88¶ï¼\\x8cæ\\x9c\\x80ç»\\x88è¾¹é\\x99\\x85å\\x8c\\x96è\\x8e·å¾\\x97$x$ç\\x9a\\x84æ\\xa0·æ\\x9c¬ã\\x80\\x82\",\\n        \"importance\": 4,\\n        \"probability\": 3\\n    },\\n    {\\n        \"question\": \"å\\x93\\x88å¯\\x86é¡¿è\\x92\\x99ç\\x89¹å\\x8d¡æ´\\x9b(HMC)ç\\x9a\\x84å\\x9fºæ\\x9c¬ç»\\x84æ\\x88\\x90æ\\x98¯ä»\\x80ä¹\\x88ï¼\\x9f\",\\n        \"answer\": \"HMCç\\x94±ä¸¤é\\x83¨å\\x88\\x86ç»\\x84æ\\x88\\x90ï¼\\x9a\\n1. ä¸»å\\x8f\\x98é\\x87\\x8fï¼\\x9aä½\\x8dç½®å\\x8f\\x98é\\x87\\x8f$(x)$\\n2. è¾\\x85å\\x8a©å\\x8f\\x98é\\x87\\x8fï¼\\x9aå\\x8a¨é\\x87\\x8få\\x8f\\x98é\\x87\\x8f$(r)$\\nç³»ç»\\x9fç\\x94±å\\x93\\x88å¯\\x86é¡¿é\\x87\\x8f$H(x, r)$æ\\x8f\\x8fè¿°ï¼\\x8cå\\x85¶ä¸\\xadï¼\\x9a\\n- $U(x)$æ\\x98¯å\\x8a¿è\\x83½ï¼\\x88ä¸\\x8eç\\x9b®æ\\xa0\\x87å\\x88\\x86å¸\\x83ç\\x9b¸å\\x85³ï¼\\x89\\n- $K(r)$æ\\x98¯å\\x8a¨è\\x83½ï¼\\x88ä¾\\x8bå¦\\x82$\\x0crac{1}{2}M^{-1}r^2$ï¼\\x89\\næ\\x80»å\\x93\\x88å¯\\x86é¡¿é\\x87\\x8fï¼\\x9a$H(x, r) = U(x) + K(r)$\",\\n        \"importance\": 5,\\n        \"probability\": 4\\n    },\\n    {\\n        \"question\": \"å\\x93\\x88å¯\\x86é¡¿å\\x8a¨å\\x8a\\x9bå\\xad¦ç\\x9a\\x84å\\x9fºæ\\x9c¬æ\\x96¹ç¨\\x8bæ\\x98¯ä»\\x80ä¹\\x88ï¼\\x9f\",\\n        \"answer\": \"æ\\x97\\xa0æ\\x91©æ\\x93¦ç\\x9a\\x84å\\x93\\x88å¯\\x86é¡¿å\\x8a¨å\\x8a\\x9bå\\xad¦æ\\x96¹ç¨\\x8bä¸ºï¼\\x9a\\n$\\x0crac{dx}{dt} = \\x0crac{\\\\partial H}{\\\\partial r}$\\n$\\x0crac{dr}{dt} = -\\x0crac{\\\\partial H}{\\\\partial x}$\\nè¿\\x99äº\\x9bæ\\x96¹ç¨\\x8bæ\\x8f\\x8fè¿°äº\\x86ç³»ç»\\x9få\\x9c¨ç\\x9b¸ç©ºé\\x97´ä¸\\xadç\\x9a\\x84è¿\\x9eç»\\xadæ¼\\x94å\\x8c\\x96ã\\x80\\x82\",\\n        \"importance\": 5,\\n        \"probability\": 5\\n    },\\n    {\\n        \"question\": \"å¦\\x82ä½\\x95å°\\x86è¿\\x9eç»\\xadç\\x9a\\x84å\\x93\\x88å¯\\x86é¡¿å\\x8a¨å\\x8a\\x9bå\\xad¦ç¦»æ\\x95£å\\x8c\\x96ï¼\\x9f\",\\n        \"answer\": \"é\\x80\\x9aè¿\\x87æ¬§æ\\x8b\\x89ç¦»æ\\x95£å\\x8c\\x96å°\\x86è¿\\x9eç»\\xadæ\\x97¶é\\x97´è½¬å\\x8c\\x96ä¸ºç¦»æ\\x95£æ\\x97¶é\\x97´æ\\xad¥é\\x95¿ï¼\\x9a\\n$(x(t), r(t)) \\rightarrow (x(t+\\\\epsilon), r(t+\\\\epsilon))$\\nè\\x99½ç\\x84¶å½¢å¼\\x8fç®\\x80å\\x8d\\x95ï¼\\x8cä½\\x86è¯¯å·®æ\\x8e§å\\x88¶è¾\\x83å\\x9b°é\\x9a¾ã\\x80\\x82\",\\n        \"importance\": 4,\\n        \"probability\": 3\\n    },\\n    {\\n        \"question\": \"è¯·è§£é\\x87\\x8aä¸\\x80ç»´æ\\x83\\x85å\\x86µä¸\\x8bå\\x93\\x88å¯\\x86é¡¿é\\x87\\x8fç\\x9a\\x84ä¾\\x8bå\\xad\\x90å\\x8f\\x8aå\\x85¶è§£\",\\n        \"answer\": \"ä¾\\x8bå\\xad\\x90ï¼\\x9a$H(x,r) = \\\\frac{r^2}{2} + \\\\frac{x^2}{2}$\\nè§£ä¸ºï¼\\x9a\\n$\\x0crac{dx}{dt} = r \\\\Rightarrow x(t) = \\\\rho \\\\cdot \\\\cos(a+t)$\\n$\\x0crac{dr}{dt} = -x \\\\Rightarrow r(t) = -\\\\rho \\\\cdot \\\\sin(a+t)$\\nè\\x83½çº§é\\x9b\\x86ï¼\\x9a$H(x,r) = \\\\frac{1}{2}\\\\rho^2$\",\\n        \"importance\": 3,\\n        \"probability\": 2\\n    },\\n    {\\n        \"question\": \"HMCå¦\\x82ä½\\x95ä¸\\x8eMetropolis-Hastingsç®\\x97æ³\\x95ç»\\x93å\\x90\\x88ä½¿ç\\x94¨ï¼\\x9f\",\\n        \"answer\": \"HMCä½¿ç\\x94¨MHç®\\x97æ³\\x95é\\x87\\x87æ\\xa0·$(x,r)$ç\\x9a\\x84è\\x81\\x94å\\x90\\x88å¯\\x86åº¦ï¼\\x9a\\n$P(x,r) = P(x)P(r|x)P(x|r,M)$\\nç\\x84¶å\\x90\\x8eè¾¹é\\x99\\x85å\\x8c\\x96æ\\x94¶é\\x9b\\x86$x$ç\\x9a\\x84æ\\xa0·æ\\x9c¬ï¼\\x8cå¾\\x97å\\x88°ç\\x9b®æ\\xa0\\x87å\\x88\\x86å¸\\x83$P(x)$ã\\x80\\x82\",\\n        \"importance\": 5,\\n        \"probability\": 4\\n    }\\n]\\n```'"
      ]
     },
     "execution_count": 14,
     "metadata": {},
     "output_type": "execute_result"
    }
   ],
   "source": [
    "content=content.encode().decode('unicode_escape')"
   ]
  },
  {
   "cell_type": "code",
   "execution_count": 11,
   "metadata": {},
   "outputs": [
    {
     "name": "stdout",
     "output_type": "stream",
     "text": [
      "[\n",
      "    {\n",
      "        \"question\": \"ä»ä¹æ¯åå¯é¡¿èç¹å¡æ´(HMC)ä¸­çæ»è½éå®ææ§è´¨ï¼\",\n",
      "        \"answer\": \"HMCéè¿å¼å¥å¨éåé$r$ä½ä¸ºè¾å©åéï¼ä¸ä½ç½®åé$x$ä¸èµ·æ´æ°ï¼å¸®å©å¿«ééåç®æ åå¸ãåè®¾$n$æ¯$x$çç´¢å¼ï¼$m$æ¯å¨éç»´åº¦ãHMCä½¿ç¨Metropolisæ¡æ¶å¯¹$(x, r)$è¿è¡éæ ·ï¼éè¿æ¥å/æç»æºå¶ï¼æç»è¾¹éåè·å¾$x$çæ ·æ¬ã\",\n",
      "        \"importance\": 4,\n",
      "        \"probability\": 3\n",
      "    },\n",
      "    {\n",
      "        \"question\": \"åå¯é¡¿èç¹å¡æ´(HMC)çåºæ¬ç»ææ¯ä»ä¹ï¼\",\n",
      "        \"answer\": \"HMCç±ä¸¤é¨åç»æï¼\n",
      "1. ä¸»åéï¼ä½ç½®åé$(x)$\n",
      "2. è¾å©åéï¼å¨éåé$(r)$\n",
      "ç³»ç»ç±åå¯é¡¿é$H(x, r)$æè¿°ï¼å¶ä¸­ï¼\n",
      "- $U(x)$æ¯å¿è½ï¼ä¸ç®æ åå¸ç¸å³ï¼\n",
      "- $K(r)$æ¯å¨è½ï¼ä¾å¦$\frac{1}{2}M^{-1}r^2$ï¼\n",
      "æ»åå¯é¡¿éï¼$H(x, r) = U(x) + K(r)$\",\n",
      "        \"importance\": 5,\n",
      "        \"probability\": 4\n",
      "    },\n",
      "    {\n",
      "        \"question\": \"åå¯é¡¿å¨åå­¦çåºæ¬æ¹ç¨æ¯ä»ä¹ï¼\",\n",
      "        \"answer\": \"æ æ©æ¦çåå¯é¡¿å¨åå­¦æ¹ç¨ä¸ºï¼\n",
      "$\frac{dx}{dt} = \frac{\\partial H}{\\partial r}$\n",
      "$\frac{dr}{dt} = -\frac{\\partial H}{\\partial x}$\n",
      "è¿äºæ¹ç¨æè¿°äºç³»ç»å¨ç¸ç©ºé´ä¸­çè¿ç»­æ¼åã\",\n",
      "        \"importance\": 5,\n",
      "        \"probability\": 5\n",
      "    },\n",
      "    {\n",
      "        \"question\": \"å¦ä½å°è¿ç»­çåå¯é¡¿å¨åå­¦ç¦»æ£åï¼\",\n",
      "        \"answer\": \"éè¿æ¬§æç¦»æ£åå°è¿ç»­æ¶é´è½¬åä¸ºç¦»æ£æ¶é´æ­¥é¿ï¼\n",
      "ightarrow (x(t+\\epsilon), r(t+\\epsilon))$\n",
      "è½ç¶å½¢å¼ç®åï¼ä½è¯¯å·®æ§å¶è¾å°é¾ã\",\n",
      "        \"importance\": 4,\n",
      "        \"probability\": 3\n",
      "    },\n",
      "    {\n",
      "        \"question\": \"è¯·è§£éä¸ç»´æåµä¸åå¯é¡¿éçä¾å­åå¶è§£\",\n",
      "        \"answer\": \"ä¾å­ï¼$H(x,r) = \\frac{r^2}{2} + \\frac{x^2}{2}$\n",
      "è§£ä¸ºï¼\n",
      "$\frac{dx}{dt} = r \\Rightarrow x(t) = \\rho \\cdot \\cos(a+t)$\n",
      "$\frac{dr}{dt} = -x \\Rightarrow r(t) = -\\rho \\cdot \\sin(a+t)$\n",
      "è½çº§éï¼$H(x,r) = \\frac{1}{2}\\rho^2$\",\n",
      "        \"importance\": 3,\n",
      "        \"probability\": 2\n",
      "    },\n",
      "    {\n",
      "        \"question\": \"HMCå¦ä½ä¸Metropolis-Hastingsç®æ³ç»åä½¿ç¨ï¼\",\n",
      "        \"answer\": \"HMCä½¿ç¨MHç®æ³éæ ·$(x,r)$çèåå¯åº¦ï¼\n",
      "$P(x,r) = P(x)P(r|x)P(x|r,M)$\n",
      "ç¶åè¾¹éåæ¶é$x$çæ ·æ¬ï¼å¾å°ç®æ åå¸$P(x)$ã\",\n",
      "        \"importance\": 5,\n",
      "        \"probability\": 4\n",
      "    }\n",
      "]\n"
     ]
    }
   ],
   "source": [
    "import json \n",
    "content = content.strip()\n",
    "if content.startswith('```json'):\n",
    "    content = content[7:]\n",
    "if content.endswith('```'):\n",
    "    content = content[:-3]\n",
    "content = content.strip()\n",
    "\n",
    "print(content)"
   ]
  },
  {
   "cell_type": "code",
   "execution_count": null,
   "metadata": {},
   "outputs": [],
   "source": []
  }
 ],
 "metadata": {
  "kernelspec": {
   "display_name": "python39",
   "language": "python",
   "name": "python3"
  },
  "language_info": {
   "codemirror_mode": {
    "name": "ipython",
    "version": 3
   },
   "file_extension": ".py",
   "mimetype": "text/x-python",
   "name": "python",
   "nbconvert_exporter": "python",
   "pygments_lexer": "ipython3",
   "version": "3.9.19"
  }
 },
 "nbformat": 4,
 "nbformat_minor": 2
}
