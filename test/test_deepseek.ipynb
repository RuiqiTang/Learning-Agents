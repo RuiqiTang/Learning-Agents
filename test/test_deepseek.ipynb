{
 "cells": [
  {
   "cell_type": "code",
   "execution_count": 1,
   "metadata": {},
   "outputs": [],
   "source": [
    "import os \n",
    "workspace=\"/Users/tr/Documents/GitHub/Learning-Agents\"\n",
    "os.chdir(workspace)"
   ]
  },
  {
   "cell_type": "code",
   "execution_count": 2,
   "metadata": {},
   "outputs": [],
   "source": [
    "# Please install OpenAI SDK first: `pip3 install openai`\n",
    "\n",
    "from openai import OpenAI\n",
    "\n",
    "client = OpenAI(\n",
    "    api_key=os.getenv('DEEPSEEK_API_KEY', ''), \n",
    "    base_url=\"https://api.deepseek.com\"\n",
    ")"
   ]
  },
  {
   "cell_type": "code",
   "execution_count": 3,
   "metadata": {},
   "outputs": [
    {
     "data": {
      "text/plain": [
       "\"## Machine Learning Notes\\n\\n### Total Energy Conservation Property [cite: 1]\\n\\n* Idea of Hill: Add the momentum variable for each dimension of x (Auxiliary variable)[cite: 1, 2].\\n* Update $(x, r)$ together with helping move rapidly through the target[cite: 2].\\n* Assume: $n$ is index $x$, and $m$. [cite: 2]\\n* HMC uses Met framework to sample $(x, r)$ with acceptance/rejection possibilities, and then at samples marginally[cite: 2].\\n\\n### Hamiltonian Monte Carlo (HMC) [cite: 3]\\n\\n* (Neal, 1996) Review by Neal 2011[cite: 3].\\n* Hybrid MC (Duane, 1987)[cite: 3].\\n* Primary: position $(x)$[cite: 3].\\n* Auxiliary: momentum $(r)$[cite: 3].\\n* Hamiltonian dynamics $H(x, r)$[cite: 3].\\n    * $U(x)$: potential (energy)[cite: 3].\\n    * $K(r)$: kinetic (energy) (e.g., $\\\\frac{1}{2}M^{-1}r^2$)[cite: 3].\\n* Hamiltonian: $H(x, r) = U(x) + K(r)$[cite: 3].\\n* Frictionless[cite: 3].\\n* Continuous dynamics:\\n    * $\\\\frac{dx}{dt} = \\\\frac{\\\\partial H}{\\\\partial r}$ [cite: 3]\\n    * $\\\\frac{dr}{dt} = -\\\\frac{\\\\partial H}{\\\\partial x}$ [cite: 3]\\n* Continuous change to Euler discretization[cite: 3].\\n* $(x(t), r(t)) \\\\rightarrow (x(t+\\\\epsilon), r(t+\\\\epsilon))$[cite: 4].\\n    * Simple in form, but error is not easy to control[cite: 4].\\n* Eg. One-dimensional case: $H(x,r) = \\\\frac{r^2}{2} + \\\\frac{x^2}{2}$[cite: 4].\\n    * $\\\\frac{dx}{dt} = r \\\\Rightarrow x(t) = \\\\rho \\\\cdot \\\\cos(a+t)$[cite: 4].\\n    * $\\\\frac{dr}{dt} = -x \\\\Rightarrow r(t) = -\\\\rho \\\\cdot \\\\sin(a+t)$[cite: 4].\\n* Level set of $H(x,r) = \\\\frac{1}{2}\\\\rho^2$[cite: 4].\\n* HMC uses MH to sample $(x,r)$ of density $P(x,r) = P(x)P(r|x)P(x|r,M)$[cite: 5].\\n* And then collect x's marginally for $P(x)$[cite: 5].\""
      ]
     },
     "execution_count": 3,
     "metadata": {},
     "output_type": "execute_result"
    }
   ],
   "source": [
    "markdown_path=os.path.join(workspace,\"assets\",\"test_notes.md\")\n",
    "with open(markdown_path,'r',encoding='utf-8') as f:\n",
    "    markdown_content=f.read()\n",
    "markdown_content\n"
   ]
  },
  {
   "cell_type": "code",
   "execution_count": 4,
   "metadata": {},
   "outputs": [],
   "source": [
    "prompt = \\\n",
    "    \"\"\"\n",
    "    你是一个专业的数学和机器学习教育专家。请将以下Markdown笔记内容转换为FlashCards格式。\n",
    "\n",
    "    要求：\n",
    "    1. 识别并保留所有LaTeX数学公式，确保其格式正确\n",
    "    2. 根据知识点的重要性和考试出现概率进行拆分\n",
    "    3. 每个知识点应该是完整的概念，包含必要的上下文\n",
    "    4. 对于数学证明或推导，应该将过程拆分为合理的步骤\n",
    "    5. 每个FlashCard包含：\n",
    "       - question: 问题（可以是概念解释、证明步骤、公式推导等）\n",
    "       - answer: 详细答案（包含完整的解释和相关公式）\n",
    "       - importance: 重要性 (1-5，5最重要)\n",
    "       - probability: 考试概率 (1-5，5最可能)\n",
    "    6. 返回JSON数组格式，确保所有LaTeX公式都正确保留\n",
    "\n",
    "    示例输出格式：\n",
    "    [\n",
    "        {{\n",
    "            \"question\": \"什么是高斯过程(GP)的定义？\",\n",
    "            \"answer\": \"高斯过程(GP)是一个随机过程，其任何有限次实现集合都具有联合多元正态分布。数学表示为：$f(x) \\\\sim GP(\\\\mu(x), k(x, x'))$，其中：\\\\n- $\\\\mu(x)$ 是均值函数\\\\n- $k(x, x')$ 是协方差函数\",\n",
    "            \"importance\": 5,\n",
    "            \"probability\": 4\n",
    "        }}\n",
    "    ]\n",
    "\n",
    "    笔记内容：\n",
    "    {content}\n",
    "    \"\"\".format(content=markdown_content)\n"
   ]
  },
  {
   "cell_type": "code",
   "execution_count": 5,
   "metadata": {},
   "outputs": [],
   "source": [
    "response = client.chat.completions.create(\n",
    "            model=\"deepseek-chat\",\n",
    "            messages=[\n",
    "                {\n",
    "                    \"role\": \"system\",\n",
    "                    \"content\": \"你是一个专业的数学和机器学习教育专家，精通将复杂的数学概念转换为清晰的FlashCards。请确保保留所有LaTeX公式，并确保输出格式严格符合JSON规范。\"\n",
    "                },\n",
    "                {\n",
    "                    \"role\": \"user\",\n",
    "                    \"content\": prompt\n",
    "                }\n",
    "            ],\n",
    "            temperature=0.3,  # 降低温度以获得更确定性的输出\n",
    "            max_tokens=4000,  # 增加最大token以处理长文本\n",
    "            stream=False\n",
    "        )"
   ]
  },
  {
   "cell_type": "code",
   "execution_count": 16,
   "metadata": {},
   "outputs": [],
   "source": [
    "content=response.choices[0].message.content"
   ]
  },
  {
   "cell_type": "code",
   "execution_count": 20,
   "metadata": {},
   "outputs": [
    {
     "name": "stdout",
     "output_type": "stream",
     "text": [
      "```json\n",
      "[\n",
      "    {\n",
      "        \"question\": \"什么是哈密顿蒙特卡洛(HMC)中的总能量守恒性质？\",\n",
      "        \"answer\": \"HMC通过引入动量变量$r$作为辅助变量，与位置变量$x$一起更新，帮助快速遍历目标分布。假设$n$是$x$的索引，$m$是动量维度。HMC使用Metropolis框架对$(x, r)$进行采样，通过接受/拒绝机制，最终边际化获得$x$的样本。\",\n",
      "        \"importance\": 4,\n",
      "        \"probability\": 3\n",
      "    },\n",
      "    {\n",
      "        \"question\": \"哈密顿蒙特卡洛(HMC)的基本组成是什么？\",\n",
      "        \"answer\": \"HMC由两部分组成：\\n1. 主变量：位置变量$(x)$\\n2. 辅助变量：动量变量$(r)$\\n系统由哈密顿量$H(x, r)$描述，其中：\\n- $U(x)$是势能（与目标分布相关）\\n- $K(r)$是动能（例如$\\frac{1}{2}M^{-1}r^2$）\\n总哈密顿量：$H(x, r) = U(x) + K(r)$\",\n",
      "        \"importance\": 5,\n",
      "        \"probability\": 4\n",
      "    },\n",
      "    {\n",
      "        \"question\": \"哈密顿动力学的基本方程是什么？\",\n",
      "        \"answer\": \"无摩擦的哈密顿动力学方程为：\\n$\\frac{dx}{dt} = \\frac{\\partial H}{\\partial r}$\\n$\\frac{dr}{dt} = -\\frac{\\partial H}{\\partial x}$\\n这些方程描述了系统在相空间中的连续演化。\",\n",
      "        \"importance\": 5,\n",
      "        \"probability\": 5\n",
      "    },\n",
      "    {\n",
      "        \"question\": \"如何将连续的哈密顿动力学离散化？\",\n",
      "        \"answer\": \"通过欧拉离散化将连续时间转化为离散时间步长：\\n$(x(t), r(t)) \\rightarrow (x(t+\\epsilon), r(t+\\epsilon))$\\n虽然形式简单，但误差控制较困难。\",\n",
      "        \"importance\": 4,\n",
      "        \"probability\": 3\n",
      "    },\n",
      "    {\n",
      "        \"question\": \"请解释一维情况下哈密顿量的例子及其解\",\n",
      "        \"answer\": \"例子：$H(x,r) = \\\\frac{r^2}{2} + \\\\frac{x^2}{2}$\\n解为：\\n$\\frac{dx}{dt} = r \\\\Rightarrow x(t) = \\\\rho \\\\cdot \\\\cos(a+t)$\\n$\\frac{dr}{dt} = -x \\\\Rightarrow r(t) = -\\\\rho \\\\cdot \\\\sin(a+t)$\\n能级集：$H(x,r) = \\\\frac{1}{2}\\\\rho^2$\",\n",
      "        \"importance\": 3,\n",
      "        \"probability\": 2\n",
      "    },\n",
      "    {\n",
      "        \"question\": \"HMC如何与Metropolis-Hastings算法结合使用？\",\n",
      "        \"answer\": \"HMC使用MH算法采样$(x,r)$的联合密度：\\n$P(x,r) = P(x)P(r|x)P(x|r,M)$\\n然后边际化收集$x$的样本，得到目标分布$P(x)$。\",\n",
      "        \"importance\": 5,\n",
      "        \"probability\": 4\n",
      "    }\n",
      "]\n",
      "```\n"
     ]
    }
   ],
   "source": [
    "print(content)"
   ]
  },
  {
   "cell_type": "code",
   "execution_count": 30,
   "metadata": {},
   "outputs": [],
   "source": [
    "content = content.strip()\n",
    "if content.startswith(\"```json\"):\n",
    "    content = content[len(\"```json\"):].strip()\n",
    "if content.endswith(\"```\"):\n",
    "    content = content[:-len(\"```\")].strip()\n",
    "content = content.lstrip('\\ufeff')\n",
    "content = content.replace('\\\\', '\\\\\\\\')"
   ]
  },
  {
   "cell_type": "code",
   "execution_count": 31,
   "metadata": {},
   "outputs": [
    {
     "name": "stdout",
     "output_type": "stream",
     "text": [
      "[\n",
      "    {\n",
      "        \"question\": \"什么是哈密顿蒙特卡洛(HMC)中的总能量守恒性质？\",\n",
      "        \"answer\": \"HMC通过引入动量变量$r$作为辅助变量，与位置变量$x$一起更新，帮助快速遍历目标分布。假设$n$是$x$的索引，$m$是动量维度。HMC使用Metropolis框架对$(x, r)$进行采样，通过接受/拒绝机制，最终边际化获得$x$的样本。\",\n",
      "        \"importance\": 4,\n",
      "        \"probability\": 3\n",
      "    },\n",
      "    {\n",
      "        \"question\": \"哈密顿蒙特卡洛(HMC)的基本组成是什么？\",\n",
      "        \"answer\": \"HMC由两部分组成：\\\\n1. 主变量：位置变量$(x)$\\\\n2. 辅助变量：动量变量$(r)$\\\\n系统由哈密顿量$H(x, r)$描述，其中：\\\\n- $U(x)$是势能（与目标分布相关）\\\\n- $K(r)$是动能（例如$\\\\frac{1}{2}M^{-1}r^2$）\\\\n总哈密顿量：$H(x, r) = U(x) + K(r)$\",\n",
      "        \"importance\": 5,\n",
      "        \"probability\": 4\n",
      "    },\n",
      "    {\n",
      "        \"question\": \"哈密顿动力学的基本方程是什么？\",\n",
      "        \"answer\": \"无摩擦的哈密顿动力学方程为：\\\\n$\\\\frac{dx}{dt} = \\\\frac{\\\\partial H}{\\\\partial r}$\\\\n$\\\\frac{dr}{dt} = -\\\\frac{\\\\partial H}{\\\\partial x}$\\\\n这些方程描述了系统在相空间中的连续演化。\",\n",
      "        \"importance\": 5,\n",
      "        \"probability\": 5\n",
      "    },\n",
      "    {\n",
      "        \"question\": \"如何将连续的哈密顿动力学离散化？\",\n",
      "        \"answer\": \"通过欧拉离散化将连续时间转化为离散时间步长：\\\\n$(x(t), r(t)) \\\\rightarrow (x(t+\\\\epsilon), r(t+\\\\epsilon))$\\\\n虽然形式简单，但误差控制较困难。\",\n",
      "        \"importance\": 4,\n",
      "        \"probability\": 3\n",
      "    },\n",
      "    {\n",
      "        \"question\": \"请解释一维情况下哈密顿量的例子及其解\",\n",
      "        \"answer\": \"例子：$H(x,r) = \\\\\\\\frac{r^2}{2} + \\\\\\\\frac{x^2}{2}$\\\\n解为：\\\\n$\\\\frac{dx}{dt} = r \\\\\\\\Rightarrow x(t) = \\\\\\\\rho \\\\\\\\cdot \\\\\\\\cos(a+t)$\\\\n$\\\\frac{dr}{dt} = -x \\\\\\\\Rightarrow r(t) = -\\\\\\\\rho \\\\\\\\cdot \\\\\\\\sin(a+t)$\\\\n能级集：$H(x,r) = \\\\\\\\frac{1}{2}\\\\\\\\rho^2$\",\n",
      "        \"importance\": 3,\n",
      "        \"probability\": 2\n",
      "    },\n",
      "    {\n",
      "        \"question\": \"HMC如何与Metropolis-Hastings算法结合使用？\",\n",
      "        \"answer\": \"HMC使用MH算法采样$(x,r)$的联合密度：\\\\n$P(x,r) = P(x)P(r|x)P(x|r,M)$\\\\n然后边际化收集$x$的样本，得到目标分布$P(x)$。\",\n",
      "        \"importance\": 5,\n",
      "        \"probability\": 4\n",
      "    }\n",
      "]\n"
     ]
    }
   ],
   "source": [
    "print(content)"
   ]
  },
  {
   "cell_type": "code",
   "execution_count": 32,
   "metadata": {},
   "outputs": [
    {
     "data": {
      "text/plain": [
       "[{'question': '什么是哈密顿蒙特卡洛(HMC)中的总能量守恒性质？',\n",
       "  'answer': 'HMC通过引入动量变量$r$作为辅助变量，与位置变量$x$一起更新，帮助快速遍历目标分布。假设$n$是$x$的索引，$m$是动量维度。HMC使用Metropolis框架对$(x, r)$进行采样，通过接受/拒绝机制，最终边际化获得$x$的样本。',\n",
       "  'importance': 4,\n",
       "  'probability': 3},\n",
       " {'question': '哈密顿蒙特卡洛(HMC)的基本组成是什么？',\n",
       "  'answer': 'HMC由两部分组成：\\\\n1. 主变量：位置变量$(x)$\\\\n2. 辅助变量：动量变量$(r)$\\\\n系统由哈密顿量$H(x, r)$描述，其中：\\\\n- $U(x)$是势能（与目标分布相关）\\\\n- $K(r)$是动能（例如$\\\\frac{1}{2}M^{-1}r^2$）\\\\n总哈密顿量：$H(x, r) = U(x) + K(r)$',\n",
       "  'importance': 5,\n",
       "  'probability': 4},\n",
       " {'question': '哈密顿动力学的基本方程是什么？',\n",
       "  'answer': '无摩擦的哈密顿动力学方程为：\\\\n$\\\\frac{dx}{dt} = \\\\frac{\\\\partial H}{\\\\partial r}$\\\\n$\\\\frac{dr}{dt} = -\\\\frac{\\\\partial H}{\\\\partial x}$\\\\n这些方程描述了系统在相空间中的连续演化。',\n",
       "  'importance': 5,\n",
       "  'probability': 5},\n",
       " {'question': '如何将连续的哈密顿动力学离散化？',\n",
       "  'answer': '通过欧拉离散化将连续时间转化为离散时间步长：\\\\n$(x(t), r(t)) \\\\rightarrow (x(t+\\\\epsilon), r(t+\\\\epsilon))$\\\\n虽然形式简单，但误差控制较困难。',\n",
       "  'importance': 4,\n",
       "  'probability': 3},\n",
       " {'question': '请解释一维情况下哈密顿量的例子及其解',\n",
       "  'answer': '例子：$H(x,r) = \\\\\\\\frac{r^2}{2} + \\\\\\\\frac{x^2}{2}$\\\\n解为：\\\\n$\\\\frac{dx}{dt} = r \\\\\\\\Rightarrow x(t) = \\\\\\\\rho \\\\\\\\cdot \\\\\\\\cos(a+t)$\\\\n$\\\\frac{dr}{dt} = -x \\\\\\\\Rightarrow r(t) = -\\\\\\\\rho \\\\\\\\cdot \\\\\\\\sin(a+t)$\\\\n能级集：$H(x,r) = \\\\\\\\frac{1}{2}\\\\\\\\rho^2$',\n",
       "  'importance': 3,\n",
       "  'probability': 2},\n",
       " {'question': 'HMC如何与Metropolis-Hastings算法结合使用？',\n",
       "  'answer': 'HMC使用MH算法采样$(x,r)$的联合密度：\\\\n$P(x,r) = P(x)P(r|x)P(x|r,M)$\\\\n然后边际化收集$x$的样本，得到目标分布$P(x)$。',\n",
       "  'importance': 5,\n",
       "  'probability': 4}]"
      ]
     },
     "execution_count": 32,
     "metadata": {},
     "output_type": "execute_result"
    }
   ],
   "source": [
    "import json \n",
    "json_content=json.loads(content)\n",
    "json_content"
   ]
  },
  {
   "cell_type": "code",
   "execution_count": 33,
   "metadata": {},
   "outputs": [
    {
     "name": "stdout",
     "output_type": "stream",
     "text": [
      "{'question': '什么是哈密顿蒙特卡洛(HMC)中的总能量守恒性质？', 'answer': 'HMC通过引入动量变量$r$作为辅助变量，与位置变量$x$一起更新，帮助快速遍历目标分布。假设$n$是$x$的索引，$m$是动量维度。HMC使用Metropolis框架对$(x, r)$进行采样，通过接受/拒绝机制，最终边际化获得$x$的样本。', 'importance': 4, 'probability': 3}\n",
      "{'question': '哈密顿蒙特卡洛(HMC)的基本组成是什么？', 'answer': 'HMC由两部分组成：\\\\n1. 主变量：位置变量$(x)$\\\\n2. 辅助变量：动量变量$(r)$\\\\n系统由哈密顿量$H(x, r)$描述，其中：\\\\n- $U(x)$是势能（与目标分布相关）\\\\n- $K(r)$是动能（例如$\\\\frac{1}{2}M^{-1}r^2$）\\\\n总哈密顿量：$H(x, r) = U(x) + K(r)$', 'importance': 5, 'probability': 4}\n",
      "{'question': '哈密顿动力学的基本方程是什么？', 'answer': '无摩擦的哈密顿动力学方程为：\\\\n$\\\\frac{dx}{dt} = \\\\frac{\\\\partial H}{\\\\partial r}$\\\\n$\\\\frac{dr}{dt} = -\\\\frac{\\\\partial H}{\\\\partial x}$\\\\n这些方程描述了系统在相空间中的连续演化。', 'importance': 5, 'probability': 5}\n",
      "{'question': '如何将连续的哈密顿动力学离散化？', 'answer': '通过欧拉离散化将连续时间转化为离散时间步长：\\\\n$(x(t), r(t)) \\\\rightarrow (x(t+\\\\epsilon), r(t+\\\\epsilon))$\\\\n虽然形式简单，但误差控制较困难。', 'importance': 4, 'probability': 3}\n",
      "{'question': '请解释一维情况下哈密顿量的例子及其解', 'answer': '例子：$H(x,r) = \\\\\\\\frac{r^2}{2} + \\\\\\\\frac{x^2}{2}$\\\\n解为：\\\\n$\\\\frac{dx}{dt} = r \\\\\\\\Rightarrow x(t) = \\\\\\\\rho \\\\\\\\cdot \\\\\\\\cos(a+t)$\\\\n$\\\\frac{dr}{dt} = -x \\\\\\\\Rightarrow r(t) = -\\\\\\\\rho \\\\\\\\cdot \\\\\\\\sin(a+t)$\\\\n能级集：$H(x,r) = \\\\\\\\frac{1}{2}\\\\\\\\rho^2$', 'importance': 3, 'probability': 2}\n",
      "{'question': 'HMC如何与Metropolis-Hastings算法结合使用？', 'answer': 'HMC使用MH算法采样$(x,r)$的联合密度：\\\\n$P(x,r) = P(x)P(r|x)P(x|r,M)$\\\\n然后边际化收集$x$的样本，得到目标分布$P(x)$。', 'importance': 5, 'probability': 4}\n"
     ]
    }
   ],
   "source": [
    "for cards in json_content:\n",
    "    print(cards)"
   ]
  },
  {
   "cell_type": "code",
   "execution_count": null,
   "metadata": {},
   "outputs": [],
   "source": []
  }
 ],
 "metadata": {
  "kernelspec": {
   "display_name": "python39",
   "language": "python",
   "name": "python3"
  },
  "language_info": {
   "codemirror_mode": {
    "name": "ipython",
    "version": 3
   },
   "file_extension": ".py",
   "mimetype": "text/x-python",
   "name": "python",
   "nbconvert_exporter": "python",
   "pygments_lexer": "ipython3",
   "version": "3.9.19"
  }
 },
 "nbformat": 4,
 "nbformat_minor": 2
}
