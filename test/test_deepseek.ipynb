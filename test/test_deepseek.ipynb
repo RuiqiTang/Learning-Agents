{
 "cells": [
  {
   "cell_type": "code",
   "execution_count": 35,
   "metadata": {},
   "outputs": [],
   "source": [
    "import os \n",
    "workspace=\"/Users/tr/Documents/GitHub/Learning-Agents\"\n",
    "os.chdir(workspace)"
   ]
  },
  {
   "cell_type": "code",
   "execution_count": 36,
   "metadata": {},
   "outputs": [],
   "source": [
    "# Please install OpenAI SDK first: `pip3 install openai`\n",
    "\n",
    "from openai import OpenAI\n",
    "\n",
    "client = OpenAI(\n",
    "    api_key=os.getenv('DEEPSEEK_API_KEY', ''), \n",
    "    base_url=\"https://api.deepseek.com\"\n",
    ")"
   ]
  },
  {
   "cell_type": "code",
   "execution_count": 37,
   "metadata": {},
   "outputs": [],
   "source": [
    "import json\n",
    "json_path=\"flashcards/test_notes_20250606_132658_flashcards.json\"\n",
    "with open(json_path,\"r\") as f:\n",
    "    data=json.load(f)"
   ]
  },
  {
   "cell_type": "code",
   "execution_count": 38,
   "metadata": {},
   "outputs": [],
   "source": [
    "question=data[0].get('question')\n",
    "context=data[0].get('context')"
   ]
  },
  {
   "cell_type": "code",
   "execution_count": 86,
   "metadata": {},
   "outputs": [],
   "source": [
    "def format_deepseek_prompt():\n",
    "    \"\"\"生成用于DeepSeek的数学公式格式化提示\"\"\"\n",
    "    return \"\"\"\n",
    "    在回答中，请严格遵循以下数学公式格式规范：\n",
    "    \n",
    "    1. 行内公式：\n",
    "       - 使用单个美元符号：$formula$\n",
    "       - 示例：$x$, $\\\\alpha$, $f(x)$\n",
    "       - 变量、参数等单个符号也要使用数学模式：$x$ 而不是 x\n",
    "    \n",
    "    2. 行间公式：\n",
    "       - 使用双美元符号：$$formula$$\n",
    "       - 示例：$$\\\\min\\\\left(1, \\\\frac{\\\\pi(x')}{\\\\pi(x)}\\\\right)$$\n",
    "       - 重要的多行公式或推导过程使用行间公式\n",
    "    \n",
    "    3. 数学符号规范：\n",
    "       - 希腊字母：$\\\\alpha$, $\\\\beta$, $\\\\pi$ 等\n",
    "       - 数学函数：$\\\\min$, $\\\\max$, $\\\\exp$, $\\\\log$ 等\n",
    "       - 关系运算符：$\\\\leq$, $\\\\geq$, $\\\\neq$, $\\\\approx$ 等\n",
    "       - 上下标使用花括号：$x_{t}$, $x^{2}$, $x_{i,j}$ 等\n",
    "       - 分式：$\\\\frac{numerator}{denominator}$\n",
    "    \n",
    "    4. 格式化规则：\n",
    "       - 所有数学符号和变量都必须在数学模式中\n",
    "       - 公式前后要有适当的空格\n",
    "       - 不要使用 Unicode 数学符号，使用 LaTeX 命令\n",
    "       - 避免使用 \\\\[...\\\\] 或 \\\\(...\\\\) 格式\n",
    "    \"\"\"\n",
    "\n",
    "prompt = f\"\"\"\n",
    "        作为一个专业的数学和机器学习教育专家，请基于以下内容回答问题。\n",
    "        请确保回答准确、清晰，并保持与原文一致的专业水平，不要求生成json等格式化数据，而是自然语言。\n",
    "        \n",
    "        根据数学格式化规则：\n",
    "        {format_deepseek_prompt()}\n",
    "        \n",
    "        上下文内容：\n",
    "        {context}\n",
    "\n",
    "        问题：\n",
    "        {question}\n",
    "        \"\"\""
   ]
  },
  {
   "cell_type": "code",
   "execution_count": 87,
   "metadata": {},
   "outputs": [],
   "source": [
    "response = client.chat.completions.create(\n",
    "            model=\"deepseek-chat\",\n",
    "            messages=[\n",
    "                {\n",
    "                    \"role\": \"system\",\n",
    "                    \"content\": \"你是一个专业的数学和机器学习教育专家，精通将复杂的数学概念转换为清晰的FlashCards。请确保保留所有LaTeX公式。\"\n",
    "                },\n",
    "                {\n",
    "                    \"role\": \"user\",\n",
    "                    \"content\": prompt\n",
    "                }\n",
    "            ],\n",
    "            temperature=0.3,  # 降低温度以获得更确定性的输出\n",
    "            max_tokens=4000,  # 增加最大token以处理长文本\n",
    "            stream=False\n",
    "        )"
   ]
  },
  {
   "cell_type": "code",
   "execution_count": 88,
   "metadata": {},
   "outputs": [],
   "source": [
    "answer = response.choices[0].message.content.strip()"
   ]
  },
  {
   "cell_type": "code",
   "execution_count": 89,
   "metadata": {},
   "outputs": [
    {
     "data": {
      "text/plain": [
       "'哈密顿蒙特卡洛（HMC）中的总能量守恒性质是其核心理论基础之一，源于哈密顿动力学的物理守恒定律。以下是关键要点：\\n\\n1. **哈密顿系统定义**  \\n   在HMC中，系统状态由位置变量 $q$ 和动量变量 $p$ 描述，总能量（哈密顿量）定义为：\\n   $$H(q,p) = U(q) + K(p)$$\\n   其中：\\n   - $U(q)$ 是势能，对应目标分布 $\\\\pi(q)$ 的负对数：$U(q) = -\\\\log \\\\pi(q)$\\n   - $K(p)$ 是动能，通常取 $K(p) = \\\\frac{1}{2}p^T M^{-1}p$（$M$ 为质量矩阵）\\n\\n2. **守恒性质**  \\n   在理想条件下（精确的哈密顿动力学模拟），系统满足：\\n   $$\\\\frac{dH}{dt} = 0$$\\n   即总能量 $H(q,p)$ 沿轨迹保持不变。这一性质来源于哈密顿方程：\\n   $$\\\\frac{dq}{dt} = \\\\frac{\\\\partial H}{\\\\partial p}, \\\\quad \\\\frac{dp}{dt} = -\\\\frac{\\\\partial H}{\\\\partial q}$$\\n\\n3. **HMC中的意义**  \\n   - 保证接受概率公式的合理性：接受率 $A = \\\\min\\\\left(1, \\\\exp(H_{\\\\text{current}} - H_{\\\\text{proposed}})\\\\right)$ 在理想情况下应为1\\n   - 数值误差导致的实际应用中，能量会有微小波动，需通过离散化方法（如蛙跳法）和Metropolis校正来补偿\\n\\n4. **破坏守恒性的因素**  \\n   - 离散化积分误差（步长 $\\\\epsilon$ 过大）\\n   - 非对称动能函数（如使用Riemann流形HMC时）\\n   - 约束条件处理不当（如边界反射）\\n\\n该性质使得HMC能高效探索状态空间，相比传统MCMC方法具有更低的样本相关性。'"
      ]
     },
     "execution_count": 89,
     "metadata": {},
     "output_type": "execute_result"
    }
   ],
   "source": [
    "answer"
   ]
  },
  {
   "cell_type": "code",
   "execution_count": 79,
   "metadata": {},
   "outputs": [],
   "source": [
    "import re \n",
    "def format_answer(answer):\n",
    "    \"\"\"格式化从DeepSeek获取的JSON格式答案\"\"\"\n",
    "    # for json process\n",
    "    answer_process = answer.strip()\n",
    "    if answer_process.startswith('```json'):\n",
    "        answer_process = answer_process[len(\"```json\"):].strip()\n",
    "    if answer_process.endswith('```'):\n",
    "        answer_process = answer_process[:-len(\"```\")].strip()\n",
    "    answer_process = answer_process.lstrip('\\ufeff')\n",
    "    # 尝试解析JSON\n",
    "    answer_data = json.loads(answer_process)\n",
    "    # 构建格式化文本\n",
    "    formatted_parts = []\n",
    "    \n",
    "    # 添加主要描述\n",
    "    description = answer_data.get('answer', {}).get('description', '')\n",
    "    if description:\n",
    "        formatted_parts.append(description.strip())\n",
    "    # 添加详细信息\n",
    "    details = answer_data.get('answer', {}).get('details', [])\n",
    "    if details:\n",
    "        for detail in details:\n",
    "            term = detail.get('term', '').strip()\n",
    "            explanation = detail.get('explanation', '').strip()\n",
    "            if term and explanation:\n",
    "                # 添加空行和详细信息\n",
    "                formatted_parts.extend(['', f\"**{term}**：{explanation}\"])\n",
    "    # 添加附注\n",
    "    note = answer_data.get('answer', {}).get('note', '')\n",
    "    if note:\n",
    "        # 添加空行和附注\n",
    "        formatted_parts.extend(['', f\"**附注**：{note.strip()}\"])\n",
    "    \n",
    "    text = '\\n'.join(formatted_parts)\n",
    "    \n",
    "    # 处理数学公式和格式化\n",
    "    def clean_math_text(text):\n",
    "        # 统一处理Unicode数学符号\n",
    "        unicode_math = {\n",
    "            '𝑥': 'x', '𝑟': 'r', '𝑞': 'q', '𝑝': 'p',\n",
    "            '𝜋': '\\\\pi', '𝜃': '\\\\theta', '𝜇': '\\\\mu',\n",
    "            '′': \"'\", '⋅': '\\\\cdot', '∼': '\\\\sim',\n",
    "            '∆': '\\\\Delta', 'α': '\\\\alpha', 'β': '\\\\beta'\n",
    "        }\n",
    "        for unicode_char, latex_char in unicode_math.items():\n",
    "            text = text.replace(unicode_char, latex_char)\n",
    "        \n",
    "        # 处理数学公式\n",
    "        text = re.sub(r'\\\\Delta\\s+H', '\\\\Delta H', text)  # 修复Delta H的间距\n",
    "        text = re.sub(r'\\$\\((.*?)\\)\\$', r'$\\1$', text)  # 移除公式中多余的括号\n",
    "        text = re.sub(r'\\(\\s*x\\s*,\\s*r\\s*\\)', '(x,r)', text)  # 标准化坐标对\n",
    "        text = re.sub(r'\\$\\s*,\\s*\\$', ', ', text)  # 修复被错误分割的公式\n",
    "        \n",
    "        # 处理绝对值符号\n",
    "        text = text.replace('|', '\\\\|')  # 将普通竖线替换为LaTeX绝对值符号\n",
    "        \n",
    "        # 确保公式中的空格正确\n",
    "        text = re.sub(r'(?<=\\w)(?=[\\\\$])', ' ', text)  # 在公式前添加空格\n",
    "        text = re.sub(r'(?<=[\\\\$])(?=\\w)', ' ', text)  # 在公式后添加空格\n",
    "        \n",
    "        # 处理多行公式\n",
    "        text = re.sub(r'\\n\\s*(?=[\\\\$])', ' ', text)  # 合并跨行的公式\n",
    "        text = re.sub(r'(?<=[\\\\$])\\s*\\n', ' ', text)  # 合并跨行的公式\n",
    "        \n",
    "        # 处理段落格式\n",
    "        text = re.sub(r'\\n{3,}', '\\n\\n', text)  # 减少多余的空行\n",
    "        text = re.sub(r'(?<=。)\\s*\\n\\s*(?=\\S)', '\\n\\n', text)  # 在句子之间添加适当的空行\n",
    "        \n",
    "        return text.strip()\n",
    "    \n",
    "    # 应用清理和格式化\n",
    "    # formatted_text = clean_math_text(text)\n",
    "    return answer_data\n",
    "        "
   ]
  },
  {
   "cell_type": "code",
   "execution_count": 81,
   "metadata": {},
   "outputs": [
    {
     "data": {
      "text/plain": [
       "{'answer': {'description': '哈密顿蒙特卡洛(HMC)中的总能量守恒性质是指在模拟哈密顿动力学过程中，系统的总能量（即哈密顿量）在理想情况下保持不变。这一性质源于哈密顿动力学的可逆性和辛结构，确保了采样过程在相空间中的体积守恒（Liouville定理）。数学上，哈密顿量定义为 $H(q,p) = U(q) + K(p)$，其中 $U(q)$ 是势能（通常对应目标分布的负对数概率），$K(p)$ 是动能（通常为 $p^T M^{-1} p/2$）。在数值模拟中，由于离散化误差，总能量会轻微波动，但通过使用辛积分器（如蛙跳法）可最小化这种误差。',\n",
       "  'details': [{'term': '哈密顿量 (Hamiltonian)',\n",
       "    'explanation': '系统的总能量，$H(q,p) = U(q) + K(p)$，其中 $q$ 是位置变量，$p$ 是动量变量。'},\n",
       "   {'term': '辛积分器 (Symplectic Integrator)',\n",
       "    'explanation': '一种保持哈密顿系统几何结构的数值积分方法（如蛙跳法），能长期近似保持总能量。'},\n",
       "   {'term': 'Liouville定理',\n",
       "    'explanation': '哈密顿动力学在相空间中保持体积不变，是HMC满足细致平衡条件的基础。'}],\n",
       "  'note': '实际HMC中，离散化会导致能量不严格守恒，需通过Metropolis-Hastings步骤校正以保持理论收敛性。'}}"
      ]
     },
     "execution_count": 81,
     "metadata": {},
     "output_type": "execute_result"
    }
   ],
   "source": [
    "answer_data=format_answer(answer)\n",
    "answer_data"
   ]
  },
  {
   "cell_type": "code",
   "execution_count": 66,
   "metadata": {},
   "outputs": [
    {
     "data": {
      "text/plain": [
       "'在哈密顿蒙特卡洛(Hamiltonian Monte Carlo, HMC)中，总能量守恒性质是指系统在理想情况下（即数值积分误差为零时）的哈密顿量$H(\\\\mathbf{q}, \\\\mathbf{p})$保持恒定。'"
      ]
     },
     "execution_count": 66,
     "metadata": {},
     "output_type": "execute_result"
    }
   ],
   "source": [
    "for keys in answer_data.get('answer').keys:\n",
    "    print()"
   ]
  },
  {
   "cell_type": "code",
   "execution_count": null,
   "metadata": {},
   "outputs": [],
   "source": []
  }
 ],
 "metadata": {
  "kernelspec": {
   "display_name": "python39",
   "language": "python",
   "name": "python3"
  },
  "language_info": {
   "codemirror_mode": {
    "name": "ipython",
    "version": 3
   },
   "file_extension": ".py",
   "mimetype": "text/x-python",
   "name": "python",
   "nbconvert_exporter": "python",
   "pygments_lexer": "ipython3",
   "version": "3.9.19"
  }
 },
 "nbformat": 4,
 "nbformat_minor": 2
}
